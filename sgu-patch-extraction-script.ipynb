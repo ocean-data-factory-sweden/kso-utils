{
 "cells": [
  {
   "cell_type": "code",
   "execution_count": 97,
   "id": "9efb7f98",
   "metadata": {},
   "outputs": [],
   "source": [
    "import pandas as pd\n",
    "from pathlib import Path\n",
    "import os\n",
    "import cv2\n",
    "import numpy as np\n",
    "from pathlib import Path\n",
    "\n",
    "!pip install -q -r requirements.txt"
   ]
  },
  {
   "cell_type": "code",
   "execution_count": 121,
   "id": "b2887678",
   "metadata": {},
   "outputs": [],
   "source": [
    "def get_patches(filename, pixels):\n",
    "    # function that takes as input a filename of a photo that exists in the SGU metadata-sheet, and a height/width in pixels,\n",
    "    # and gives as output square patches from all points specified in the sheet, with size equal to pixels:pixels\n",
    "    # filename: filename of a photo that exists in the SGU metadata-sheet\n",
    "    # pixels:\n",
    "\n",
    "    path_to_folder = Path(\n",
    "        \"/cephyr/NOBACKUP/groups/snic2021-6-9/KSO_SGU_pz/norramidsjobank_photos/UV_machinelearning/\"\n",
    "    )\n",
    "    if not os.path.isfile(str(path_to_folder) + \"/\" + str(filename)):\n",
    "        print(str(path_to_folder) + \"/\" + str(filename))\n",
    "        print(\"file does not exist, try again with new file\")\n",
    "        return\n",
    "\n",
    "    # df: dataframe based on SGU metadata-sheet\n",
    "    df = pd.read_excel(str(path_to_folder) + \"/\" + \"nmi18_point_data.xlsx\")\n",
    "\n",
    "    # k: index for each of the intercept specified in the SGU metadata-sheet, is in cluded in the name of each created patch.\n",
    "    k = 0\n",
    "    for index, data in df.iterrows():\n",
    "        if data[0].lower() == str(filename).lower():\n",
    "            img = cv2.imread(str(path_to_folder) + \"/\" + str(filename))\n",
    "\n",
    "            # ToDo:\n",
    "            # add logic to find pixels to index the cropped image when you know how the metadata pos_XY works,\n",
    "            # for now alwys pick coord = 100,100\n",
    "            # use coord, defined below, when implementing right version\n",
    "            coord = (data.pos_X, data.pos_Y)\n",
    "            # remove below definition of coord when implementing right version\n",
    "            coord = (100, 100)\n",
    "            cropped_image = img[\n",
    "                int(coord[0] - pixels / 2) : int(coord[0] + pixels / 2),\n",
    "                int(coord[1] - pixels / 2) : int(coord[1] + pixels / 2),\n",
    "            ]\n",
    "\n",
    "            # writes patches to a folder in current working directory called \"patches\"\n",
    "            cv2.imwrite(\"patches/patch_no_{}.jpg\".format(k), cropped_image)\n",
    "            k += 1\n",
    "    print(\"done\")\n",
    "    return"
   ]
  },
  {
   "cell_type": "code",
   "execution_count": 122,
   "id": "a8e606bc",
   "metadata": {},
   "outputs": [
    {
     "name": "stdout",
     "output_type": "stream",
     "text": [
      "done\n"
     ]
    }
   ],
   "source": [
    "# cell to specify input to the function and run the fucntion\n",
    "filename = Path(\n",
    "    \"nmi18_11001 0 Lat 6224219.60 Lon 626373.41 Pan -150.0 Tilt 0.0 Hdg 301.0 18_07_27 08_32_450002.JPG\"\n",
    ")\n",
    "pixels = 100\n",
    "get_patches(filename, pixels)"
   ]
  },
  {
   "cell_type": "code",
   "execution_count": null,
   "id": "d9149545",
   "metadata": {},
   "outputs": [],
   "source": []
  }
 ],
 "metadata": {
  "kernelspec": {
   "display_name": "Python 3 (ipykernel)",
   "language": "python",
   "name": "python3"
  },
  "language_info": {
   "codemirror_mode": {
    "name": "ipython",
    "version": 3
   },
   "file_extension": ".py",
   "mimetype": "text/x-python",
   "name": "python",
   "nbconvert_exporter": "python",
   "pygments_lexer": "ipython3",
   "version": "3.8.15"
  }
 },
 "nbformat": 4,
 "nbformat_minor": 5
}
